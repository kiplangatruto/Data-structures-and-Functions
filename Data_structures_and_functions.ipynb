{
  "nbformat": 4,
  "nbformat_minor": 0,
  "metadata": {
    "colab": {
      "provenance": [],
      "authorship_tag": "ABX9TyMYBJ0uKA8vnqpqEOnfXuzf",
      "include_colab_link": true
    },
    "kernelspec": {
      "name": "python3",
      "display_name": "Python 3"
    },
    "language_info": {
      "name": "python"
    }
  },
  "cells": [
    {
      "cell_type": "markdown",
      "metadata": {
        "id": "view-in-github",
        "colab_type": "text"
      },
      "source": [
        "<a href=\"https://colab.research.google.com/github/kiplangatruto/Data-structures-and-Functions/blob/main/Data_structures_and_functions.ipynb\" target=\"_parent\"><img src=\"https://colab.research.google.com/assets/colab-badge.svg\" alt=\"Open In Colab\"/></a>"
      ]
    },
    {
      "cell_type": "code",
      "execution_count": null,
      "metadata": {
        "id": "IKbGmMGF8OEQ"
      },
      "outputs": [],
      "source": []
    },
    {
      "cell_type": "markdown",
      "source": [
        "Introduction to Python Data Structures\n",
        "\n",
        "Definition: Data structures are specialized formats for organizing, processing, retrieving, and storing data efficiently. By selecting the right data structure, we can optimize the performance of a program.\n",
        "\n",
        "Why Data Structures are Important:\n",
        "\n",
        "Efficiency: Data structures make it easy to manage large amounts of data in an organized manner, improving the efficiency of data access, modification, and retrieval.\n",
        "Optimized Operations: Data structures are crucial for optimizing computational tasks such as searching, sorting, or updating data, providing the foundation for more complex algorithms.\n",
        "Problem Solving: Correct use of data structures is key in solving a wide range of computational problems, from simple tasks like sorting and searching to complex problems like pathfinding, machine learning, and more.\n",
        "Python’s Built-in Data Structures: Python comes with several built-in data structures that are used frequently in data analysis and general programming:\n",
        "\n",
        "Lists: Ordered, mutable collections of items.\n",
        "Tuples: Ordered, immutable collections of items.\n",
        "Dictionaries: Key-value pairs for fast lookups.\n",
        "Sets: Unordered collections of unique elements.\n",
        "Mutable vs Immutable:\n",
        "\n",
        "Mutable: These data structures can be altered after their creation, meaning you can add, remove, or modify elements. Examples: Lists, Dictionaries, Sets.\n",
        "\n",
        "Immutable: These data structures cannot be changed after their creation, making them useful when you need to ensure data remains constant. Examples: Tuples, Strings."
      ],
      "metadata": {
        "id": "ag9sPq9284NN"
      }
    },
    {
      "cell_type": "markdown",
      "source": [
        "list"
      ],
      "metadata": {
        "id": "nYYjXF02_EkB"
      }
    },
    {
      "cell_type": "code",
      "source": [
        "#creating a list with basic of numbers and strings\n",
        "my_list = [10,20,30,\"apple\", \"banana\"]\n",
        "print(my_list)"
      ],
      "metadata": {
        "colab": {
          "base_uri": "https://localhost:8080/"
        },
        "id": "3y8AT__4_Bw8",
        "outputId": "84d69de8-9ffa-4e16-b128-c721e3f76524"
      },
      "execution_count": null,
      "outputs": [
        {
          "output_type": "stream",
          "name": "stdout",
          "text": [
            "[10, 20, 30, 'apple', 'banana']\n"
          ]
        }
      ]
    },
    {
      "cell_type": "code",
      "source": [
        "#accessing elements(indexing)\n",
        "first_element = my_list[0]\n",
        "first_element"
      ],
      "metadata": {
        "colab": {
          "base_uri": "https://localhost:8080/"
        },
        "id": "RhyM-hntA3W6",
        "outputId": "84077a9e-ed24-4014-f9cd-68e34d9c569a"
      },
      "execution_count": null,
      "outputs": [
        {
          "output_type": "execute_result",
          "data": {
            "text/plain": [
              "10"
            ]
          },
          "metadata": {},
          "execution_count": 5
        }
      ]
    },
    {
      "cell_type": "code",
      "source": [
        "#slicing a list\n",
        "#geting a sublist from index 1 to 3\n",
        "sub_list = my_list[0:3]\n",
        "print(sub_list)"
      ],
      "metadata": {
        "colab": {
          "base_uri": "https://localhost:8080/"
        },
        "id": "Tn2vFO-cB7tN",
        "outputId": "fd7d0da7-26f2-4a28-f701-f7d1a740d4f2"
      },
      "execution_count": null,
      "outputs": [
        {
          "output_type": "stream",
          "name": "stdout",
          "text": [
            "[10, 20, 30]\n"
          ]
        }
      ]
    },
    {
      "cell_type": "code",
      "source": [
        "#modifying elements\n",
        "my_list[2] = 77\n",
        "my_list"
      ],
      "metadata": {
        "colab": {
          "base_uri": "https://localhost:8080/"
        },
        "id": "5uOyOMJuCjhM",
        "outputId": "0814a07a-444e-43ff-c271-07e9149590f5"
      },
      "execution_count": null,
      "outputs": [
        {
          "output_type": "execute_result",
          "data": {
            "text/plain": [
              "[10, 20, 77, 'apple', 'banana']"
            ]
          },
          "metadata": {},
          "execution_count": 7
        }
      ]
    },
    {
      "cell_type": "code",
      "source": [
        "#adding elements\n",
        "my_list.append(\"nick\")\n",
        "my_list"
      ],
      "metadata": {
        "colab": {
          "base_uri": "https://localhost:8080/"
        },
        "id": "rYsuUZxDDDWW",
        "outputId": "405a2920-2d10-4d6f-c133-69287a1ea2ea"
      },
      "execution_count": null,
      "outputs": [
        {
          "output_type": "execute_result",
          "data": {
            "text/plain": [
              "[10, 20, 77, 'apple', 'banana', 'nick']"
            ]
          },
          "metadata": {},
          "execution_count": 10
        }
      ]
    },
    {
      "cell_type": "code",
      "source": [
        "#remove elements\n",
        "my_list.remove(\"nick\")\n",
        "my_list"
      ],
      "metadata": {
        "colab": {
          "base_uri": "https://localhost:8080/"
        },
        "id": "0iF4ljy0DE2Y",
        "outputId": "96520d85-f0a2-4d7c-af12-4d71085bbc1b"
      },
      "execution_count": null,
      "outputs": [
        {
          "output_type": "execute_result",
          "data": {
            "text/plain": [
              "[10, 20, 77, 'apple', 'banana']"
            ]
          },
          "metadata": {},
          "execution_count": 11
        }
      ]
    },
    {
      "cell_type": "code",
      "source": [
        "#insert elements\n",
        "my_list.insert(2, \"jane\")\n",
        "my_list"
      ],
      "metadata": {
        "colab": {
          "base_uri": "https://localhost:8080/"
        },
        "id": "hYnDWyRbEOgV",
        "outputId": "b5708ff8-bfd0-44a6-b3a8-88fd182f9ac1"
      },
      "execution_count": null,
      "outputs": [
        {
          "output_type": "execute_result",
          "data": {
            "text/plain": [
              "[10, 20, 'jane', 77, 'apple', 'banana']"
            ]
          },
          "metadata": {},
          "execution_count": 12
        }
      ]
    },
    {
      "cell_type": "markdown",
      "source": [
        "2.Dictionaries"
      ],
      "metadata": {
        "id": "LhzZ-8KvEWwG"
      }
    },
    {
      "cell_type": "code",
      "source": [
        "#CREATING A DICTIONARY\n",
        "employee = {\"name\": \"nick\", \"age\": 45, \"position\": \"DataSpecialist\"}\n",
        "print(employee)"
      ],
      "metadata": {
        "colab": {
          "base_uri": "https://localhost:8080/"
        },
        "id": "__MW6XYCEY5K",
        "outputId": "0430a5de-687e-43c7-bc10-16d4c49a97e1"
      },
      "execution_count": null,
      "outputs": [
        {
          "output_type": "stream",
          "name": "stdout",
          "text": [
            "{'name': 'nick', 'age': 45, 'position': 'DataSpecialist'}\n"
          ]
        }
      ]
    },
    {
      "cell_type": "code",
      "source": [
        "#accessing(indexing)\n",
        "employee_name = employee[\"name\"]\n",
        "employee_name"
      ],
      "metadata": {
        "colab": {
          "base_uri": "https://localhost:8080/",
          "height": 35
        },
        "id": "VwFAJnS-GbYN",
        "outputId": "0c3b0200-522b-415d-9c04-27685003b4b0"
      },
      "execution_count": null,
      "outputs": [
        {
          "output_type": "execute_result",
          "data": {
            "text/plain": [
              "'nick'"
            ],
            "application/vnd.google.colaboratory.intrinsic+json": {
              "type": "string"
            }
          },
          "metadata": {},
          "execution_count": 16
        }
      ]
    },
    {
      "cell_type": "code",
      "source": [
        "#adding key-value pairs\n",
        "employee[\"Salary\"] = 70000\n",
        "employee"
      ],
      "metadata": {
        "colab": {
          "base_uri": "https://localhost:8080/"
        },
        "id": "IZFHtuqGIjQh",
        "outputId": "8a41555c-c00d-488a-9a98-fd61450ed68c"
      },
      "execution_count": null,
      "outputs": [
        {
          "output_type": "execute_result",
          "data": {
            "text/plain": [
              "{'name': 'nick', 'age': 45, 'position': 'DataSpecialist', 'Salary': 70000}"
            ]
          },
          "metadata": {},
          "execution_count": 17
        }
      ]
    },
    {
      "cell_type": "code",
      "source": [
        "#update key-pair values\n",
        "employee[\"name\"] = \"Alex\"\n",
        "print(employee)"
      ],
      "metadata": {
        "colab": {
          "base_uri": "https://localhost:8080/"
        },
        "id": "W7hb0SWKIn42",
        "outputId": "749c18a5-5782-406a-f575-745715a58aba"
      },
      "execution_count": null,
      "outputs": [
        {
          "output_type": "stream",
          "name": "stdout",
          "text": [
            "{'name': 'Alex', 'age': 45, 'position': 'DataSpecialist', 'Salary': 70000}\n"
          ]
        }
      ]
    },
    {
      "cell_type": "code",
      "source": [
        "#removing\n",
        "del employee['Salary']"
      ],
      "metadata": {
        "id": "Zyrpdn42JZgu"
      },
      "execution_count": null,
      "outputs": []
    },
    {
      "cell_type": "code",
      "source": [
        "#length\n",
        "num_items = len(employee)\n",
        "print(num_items)"
      ],
      "metadata": {
        "colab": {
          "base_uri": "https://localhost:8080/"
        },
        "id": "ukEzfzvWLJPE",
        "outputId": "c5b800eb-871d-44ac-d488-0b9b3bdf7997"
      },
      "execution_count": null,
      "outputs": [
        {
          "output_type": "stream",
          "name": "stdout",
          "text": [
            "3\n"
          ]
        }
      ]
    },
    {
      "cell_type": "markdown",
      "source": [
        "3.SETS"
      ],
      "metadata": {
        "id": "vy5lYsqHLfDm"
      }
    },
    {
      "cell_type": "code",
      "source": [
        "#creating a set\n",
        "num_set = {1,2,2,4,5,5}\n",
        "num_set"
      ],
      "metadata": {
        "colab": {
          "base_uri": "https://localhost:8080/"
        },
        "id": "5AcGUXKIL8PP",
        "outputId": "8eb0b503-6081-45b8-db29-2faab1c5657e"
      },
      "execution_count": null,
      "outputs": [
        {
          "output_type": "execute_result",
          "data": {
            "text/plain": [
              "{1, 2, 4, 5}"
            ]
          },
          "metadata": {},
          "execution_count": 6
        }
      ]
    },
    {
      "cell_type": "code",
      "source": [
        "#adding elements\n",
        "num_set.add(10)\n",
        "print(num_set)"
      ],
      "metadata": {
        "colab": {
          "base_uri": "https://localhost:8080/"
        },
        "id": "92RAUs8eOIOR",
        "outputId": "eedf3d52-4795-472d-a8dc-07fa30982902"
      },
      "execution_count": null,
      "outputs": [
        {
          "output_type": "stream",
          "name": "stdout",
          "text": [
            "{1, 2, 4, 5, 10}\n"
          ]
        }
      ]
    },
    {
      "cell_type": "code",
      "source": [
        "#removing elements\n",
        "num_set.remove(10)\n",
        "print(num_set)"
      ],
      "metadata": {
        "colab": {
          "base_uri": "https://localhost:8080/"
        },
        "id": "wBSHn0_9OV_o",
        "outputId": "fdae68c2-8921-44d9-d215-cbe9a7c76ce6"
      },
      "execution_count": null,
      "outputs": [
        {
          "output_type": "stream",
          "name": "stdout",
          "text": [
            "{1, 2, 4, 5}\n"
          ]
        }
      ]
    },
    {
      "cell_type": "code",
      "source": [
        "#set operation(union,intersection)\n",
        "num_set2 = {4,5,6,7,7,8}"
      ],
      "metadata": {
        "id": "dBhzPNjtQAOs"
      },
      "execution_count": null,
      "outputs": []
    },
    {
      "cell_type": "code",
      "source": [
        "#set operation(union,intersection)\n",
        "# Create another set\n",
        "another_set = {4, 5, 6, 7, 8}\n",
        "# Union of two sets\n",
        "union_set = num_set.union(another_set)  # Returns {1, 2, 4, 5, 6, 7, 8}\n",
        "# Explanation: union() combines all unique elements from both sets.\n",
        "print(union_set)"
      ],
      "metadata": {
        "colab": {
          "base_uri": "https://localhost:8080/"
        },
        "id": "bzUGjrm-P2-z",
        "outputId": "6fffa3de-923b-4b17-e8e5-dbeb97464e8a"
      },
      "execution_count": null,
      "outputs": [
        {
          "output_type": "stream",
          "name": "stdout",
          "text": [
            "{1, 2, 4, 5, 6, 7, 8}\n"
          ]
        }
      ]
    },
    {
      "cell_type": "code",
      "source": [
        "#intersection\n",
        "intersection = num_set.intersection(another_set)\n",
        "print(intersection)"
      ],
      "metadata": {
        "colab": {
          "base_uri": "https://localhost:8080/"
        },
        "id": "cMNwtBDGRh2X",
        "outputId": "4290682f-cf1a-4c49-eb84-787f10c63d3b"
      },
      "execution_count": null,
      "outputs": [
        {
          "output_type": "stream",
          "name": "stdout",
          "text": [
            "{4, 5}\n"
          ]
        }
      ]
    },
    {
      "cell_type": "code",
      "source": [
        "#difference\n",
        "intersection = num_set.difference(another_set)\n",
        "print(intersection)"
      ],
      "metadata": {
        "colab": {
          "base_uri": "https://localhost:8080/"
        },
        "id": "ToMEATPcRnd9",
        "outputId": "362f5e03-20b7-45e6-ed19-6f7cad7f2050"
      },
      "execution_count": null,
      "outputs": [
        {
          "output_type": "stream",
          "name": "stdout",
          "text": [
            "{1, 2}\n"
          ]
        }
      ]
    },
    {
      "cell_type": "markdown",
      "source": [
        "4. Tuples"
      ],
      "metadata": {
        "id": "cEp1HBphSJJg"
      }
    },
    {
      "cell_type": "code",
      "source": [
        "#creating a turple\n",
        "coordinates = (34.0546, -118.2345)\n",
        "print(coordinates)"
      ],
      "metadata": {
        "colab": {
          "base_uri": "https://localhost:8080/"
        },
        "id": "HX0F471xSPMR",
        "outputId": "1fbb0bed-9b84-437f-cd20-5ab0ee90fdfa"
      },
      "execution_count": null,
      "outputs": [
        {
          "output_type": "stream",
          "name": "stdout",
          "text": [
            "(34.0546, -118.2345)\n"
          ]
        }
      ]
    },
    {
      "cell_type": "code",
      "source": [
        "#accessing(indexing)\n",
        "#access elements by index\n",
        "latitude = coordinates[0]\n",
        "print(latitude)"
      ],
      "metadata": {
        "colab": {
          "base_uri": "https://localhost:8080/"
        },
        "id": "patjnP8rWydo",
        "outputId": "90500444-3ca9-4a9b-bff6-2900777a5514"
      },
      "execution_count": null,
      "outputs": [
        {
          "output_type": "stream",
          "name": "stdout",
          "text": [
            "34.0546\n"
          ]
        }
      ]
    },
    {
      "cell_type": "code",
      "source": [
        "#modify - immutability\n",
        "coordinates[0] = 40.123\n",
        "print(coordinates)"
      ],
      "metadata": {
        "colab": {
          "base_uri": "https://localhost:8080/",
          "height": 176
        },
        "id": "1L2uavXrXVtS",
        "outputId": "e83c0b35-d50b-4afc-e796-66592a52eb05"
      },
      "execution_count": null,
      "outputs": [
        {
          "output_type": "error",
          "ename": "TypeError",
          "evalue": "'tuple' object does not support item assignment",
          "traceback": [
            "\u001b[0;31m---------------------------------------------------------------------------\u001b[0m",
            "\u001b[0;31mTypeError\u001b[0m                                 Traceback (most recent call last)",
            "\u001b[0;32m<ipython-input-15-20d0cd2e5621>\u001b[0m in \u001b[0;36m<cell line: 2>\u001b[0;34m()\u001b[0m\n\u001b[1;32m      1\u001b[0m \u001b[0;31m#modify - immutability\u001b[0m\u001b[0;34m\u001b[0m\u001b[0;34m\u001b[0m\u001b[0m\n\u001b[0;32m----> 2\u001b[0;31m \u001b[0mcoordinates\u001b[0m\u001b[0;34m[\u001b[0m\u001b[0;36m0\u001b[0m\u001b[0;34m]\u001b[0m \u001b[0;34m=\u001b[0m \u001b[0;36m40.123\u001b[0m\u001b[0;34m\u001b[0m\u001b[0;34m\u001b[0m\u001b[0m\n\u001b[0m\u001b[1;32m      3\u001b[0m \u001b[0mprint\u001b[0m\u001b[0;34m(\u001b[0m\u001b[0mcoordinates\u001b[0m\u001b[0;34m)\u001b[0m\u001b[0;34m\u001b[0m\u001b[0;34m\u001b[0m\u001b[0m\n",
            "\u001b[0;31mTypeError\u001b[0m: 'tuple' object does not support item assignment"
          ]
        }
      ]
    },
    {
      "cell_type": "markdown",
      "source": [
        "Basic task 1"
      ],
      "metadata": {
        "id": "UBOEV0iqap0R"
      }
    },
    {
      "cell_type": "code",
      "source": [
        "#STEP 1\n",
        "student_scores = {\"Alice\": 87, \"Harrison\": 67, \"David\": 45,\"Charlse\": 90, \"Mirriam\": 78}\n",
        "#step 2\n",
        "for student, score in student_scores.items():\n",
        "  print(f\"Student: {student}, Score:{score}\")\n",
        "#step3\n",
        "  if score >= 80:\n",
        "    print(\"Result: excelent\")\n",
        "  elif 50 <= score < 80:\n",
        "    print(\"Result: pass\")\n",
        "  else:\n",
        "   print(\"Result: Fail\")\n",
        "\n",
        "   print()"
      ],
      "metadata": {
        "colab": {
          "base_uri": "https://localhost:8080/"
        },
        "id": "IjUTKEf8XYlf",
        "outputId": "e1398220-7bdd-438a-cfd6-c4cb570b0304"
      },
      "execution_count": null,
      "outputs": [
        {
          "output_type": "stream",
          "name": "stdout",
          "text": [
            "Student: Alice, Score:87\n",
            "Result: excelent\n",
            "Student: Harrison, Score:67\n",
            "Result: pass\n",
            "Student: David, Score:45\n",
            "Result: Fail\n",
            "\n",
            "Student: Charlse, Score:90\n",
            "Result: excelent\n",
            "Student: Mirriam, Score:78\n",
            "Result: pass\n"
          ]
        }
      ]
    },
    {
      "cell_type": "markdown",
      "source": [
        "2. Basic task"
      ],
      "metadata": {
        "id": "w0bI2xeFeLra"
      }
    },
    {
      "cell_type": "code",
      "source": [
        "items = {\"Apple\",\"Banana\",\"avocado\",\"orange\",\"Grapes\",\"Mango\"}\n",
        "#step2\n",
        "for item in items:\n",
        "  #the for loop will go through each item\n",
        "  #step 3\n",
        "  if item.startswith(\"A\"):\n",
        "    print(f\"{item}: Start with A\")\n",
        "  elif len(item) > 5:\n",
        "     print(f\"{item}: Long Name\")\n",
        "  else:\n",
        "    print(f\"{item}: Regular Name\")"
      ],
      "metadata": {
        "colab": {
          "base_uri": "https://localhost:8080/"
        },
        "id": "5_9u_iujeP21",
        "outputId": "a180842c-b225-44ae-9409-fea65b508c73"
      },
      "execution_count": null,
      "outputs": [
        {
          "output_type": "stream",
          "name": "stdout",
          "text": [
            "Mango: Regular Name\n",
            "Grapes: Long Name\n",
            "Banana: Long Name\n",
            "Apple: Start with A\n",
            "avocado: Long Name\n",
            "orange: Long Name\n"
          ]
        }
      ]
    },
    {
      "cell_type": "markdown",
      "source": [
        "PYTHON FUNCTION\n",
        "PYTHON FUNCTION\n",
        "\n",
        "BLOCK OF REUSABLE CODES THAT PERFORM A SPECIFIC TASKS\n",
        "\n"
      ],
      "metadata": {
        "id": "paAcZke0gUxx"
      }
    },
    {
      "cell_type": "markdown",
      "source": [
        "![image.png](data:image/png;base64,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)"
      ],
      "metadata": {
        "id": "hffWtEpt1ZfO"
      }
    },
    {
      "cell_type": "code",
      "source": [
        "#NICK\n",
        "def print_nick():\n",
        " print(\"nick\")\n",
        " #calling function\n",
        "print_nick()\n",
        "print_nick()\n",
        "print_nick()\n",
        "print_nick()"
      ],
      "metadata": {
        "colab": {
          "base_uri": "https://localhost:8080/"
        },
        "id": "mv6HEmwtgXgT",
        "outputId": "54cb8484-9b53-45e5-9fff-6091961ee024"
      },
      "execution_count": null,
      "outputs": [
        {
          "output_type": "stream",
          "name": "stdout",
          "text": [
            "nick\n",
            "nick\n",
            "nick\n",
            "nick\n"
          ]
        }
      ]
    },
    {
      "cell_type": "code",
      "source": [
        "def greet():\n",
        "    # def is the keyword to define a function\n",
        "    # 'greet' is the function name, representing what the function does\n",
        "    print(\"Hello, welcome to Python!\")\n",
        "    # The print() function outputs a message to the console\n",
        "\n",
        "# Function call\n",
        "greet()\n",
        "# This calls the function, executing the code inside it\n",
        "# Output: Hello, welcome to Python!"
      ],
      "metadata": {
        "colab": {
          "base_uri": "https://localhost:8080/"
        },
        "id": "Pi0C97cF1sFE",
        "outputId": "444e8fd6-fceb-42e8-ddc6-e6b7b791736d"
      },
      "execution_count": null,
      "outputs": [
        {
          "output_type": "stream",
          "name": "stdout",
          "text": [
            "Hello, welcome to Python!\n"
          ]
        }
      ]
    },
    {
      "cell_type": "code",
      "source": [
        "#creating a function with parameters and arguments\n",
        "def greet_person(name):\n",
        "  print(f\"hello {name}\")\n",
        "#calling function\n",
        "greet_person(\"nick\")"
      ],
      "metadata": {
        "colab": {
          "base_uri": "https://localhost:8080/"
        },
        "id": "qMYGQOod3OUH",
        "outputId": "c86a77f7-5ac6-4fe9-c14a-e9bbf024ffbd"
      },
      "execution_count": null,
      "outputs": [
        {
          "output_type": "stream",
          "name": "stdout",
          "text": [
            "hello nick\n"
          ]
        }
      ]
    },
    {
      "cell_type": "markdown",
      "source": [
        "Types of function arguments\n",
        "\n",
        "Positional Arguments\n",
        "Keyword arguments"
      ],
      "metadata": {
        "id": "E5Rr0rL54UHR"
      }
    },
    {
      "cell_type": "code",
      "source": [
        "#creating function\n",
        "def add(a, b):\n",
        "  return a + b\n",
        "#calling a function\n",
        "result = add(4, 5)\n",
        "print(result)"
      ],
      "metadata": {
        "colab": {
          "base_uri": "https://localhost:8080/"
        },
        "id": "DI5ZzqTb4t71",
        "outputId": "fb34b447-7d7c-4c75-9160-57c1dfd1e793"
      },
      "execution_count": null,
      "outputs": [
        {
          "output_type": "stream",
          "name": "stdout",
          "text": [
            "9\n"
          ]
        }
      ]
    },
    {
      "cell_type": "markdown",
      "source": [
        "Return statement\n",
        "\n",
        "It allows functions to send back a result or value to the part of the program that called the function"
      ],
      "metadata": {
        "id": "QZrmg6py7GMz"
      }
    },
    {
      "cell_type": "code",
      "source": [
        "#keyword arguments\n",
        "add(a=7, b=10)"
      ],
      "metadata": {
        "colab": {
          "base_uri": "https://localhost:8080/"
        },
        "id": "ZJ3Po1po8Y9H",
        "outputId": "424c17fb-31a7-4624-ea3f-deace0e7f8bc"
      },
      "execution_count": null,
      "outputs": [
        {
          "output_type": "execute_result",
          "data": {
            "text/plain": [
              "17"
            ]
          },
          "metadata": {},
          "execution_count": 8
        }
      ]
    },
    {
      "cell_type": "code",
      "source": [
        "#keyword arguments\n",
        "#creating function for positional arguments\n",
        "def add(a, b):\n",
        "  return a + b\n",
        "#calling a function\n",
        "result = add(a=9, b=19)\n",
        "print(result)"
      ],
      "metadata": {
        "colab": {
          "base_uri": "https://localhost:8080/"
        },
        "id": "9jm2Cl3Z-6pK",
        "outputId": "d255abc9-eff2-4ed0-c5e0-806100759689"
      },
      "execution_count": null,
      "outputs": [
        {
          "output_type": "stream",
          "name": "stdout",
          "text": [
            "28\n"
          ]
        }
      ]
    },
    {
      "cell_type": "code",
      "source": [
        "def calculate_sum_average(numbers):\n",
        "  total = sum(numbers)\n",
        "  average = total/len(numbers)\n",
        "  return total, average\n",
        "sum, average = calculate_sum_average([1,2,3,4,5])\n",
        "print(f\"Sum: {sum}, Average: {average}\")"
      ],
      "metadata": {
        "colab": {
          "base_uri": "https://localhost:8080/"
        },
        "id": "AXbpaiUnBMB7",
        "outputId": "bfd741ee-9658-4a9e-9af4-46a181c99d09"
      },
      "execution_count": null,
      "outputs": [
        {
          "output_type": "stream",
          "name": "stdout",
          "text": [
            "Sum: 15, Average: 3.0\n"
          ]
        }
      ]
    },
    {
      "cell_type": "code",
      "source": [
        "elements = ['apple', 'banana', 'apple', 'orange', 'banana', 'apple']\n",
        "frequency = {}\n",
        "\n",
        "for item in elements:\n",
        "    frequency[item] = frequency.get(item, 0) + 1\n",
        "\n",
        "print(frequency)  # Output: {'apple': 3, 'banana': 2, 'orange': 1}"
      ],
      "metadata": {
        "id": "kqA0ep8BLsEG",
        "outputId": "da8cac7d-06b1-4f8c-a918-f50b0c7d8cc5",
        "colab": {
          "base_uri": "https://localhost:8080/"
        }
      },
      "execution_count": null,
      "outputs": [
        {
          "output_type": "stream",
          "name": "stdout",
          "text": [
            "{'apple': 3, 'banana': 2, 'orange': 1}\n"
          ]
        }
      ]
    }
  ]
}